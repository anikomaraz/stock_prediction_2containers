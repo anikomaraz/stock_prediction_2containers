{
 "cells": [
  {
   "cell_type": "code",
   "execution_count": 3,
   "id": "beedaed7",
   "metadata": {},
   "outputs": [],
   "source": [
    "import pandas as pd \n",
    "import tweepy \n",
    "import config\n",
    "import time"
   ]
  },
  {
   "cell_type": "code",
   "execution_count": 52,
   "id": "d2aca4b9",
   "metadata": {},
   "outputs": [],
   "source": [
    "api_key =  'C8n8KbxM1SeM0cPG4oXUIfdqp'\n",
    "\n",
    "api_secret = 'tt1Hj8xMwQfh1RPgvP440Wn9g4wrzzx7wa5Amu7FyqGSPuihDz'\n",
    "\n",
    "bearer_token = 'AAAAAAAAAAAAAAAAAAAAAH7ujAEAAAAAY0T4pUlx7QAk%2FA9OJJaiaqEAfF8%3D18NTRa2L5sTIaAB7E7yhG09avK2IbETni0nXqcT1TdAucWCHWP'\n",
    "\n",
    "access_token = '937788911941771264-GqYk2VYBsyjdiVuKfjEGth1tZUNsyMk'\n",
    "access_secret = 'GplmdIbsdgCmzRi4YwVpbXAwNn2Yq9X0nrJXZsFupdEmy'\n"
   ]
  },
  {
   "cell_type": "code",
   "execution_count": null,
   "id": "f8ad9ac4",
   "metadata": {},
   "outputs": [],
   "source": []
  },
  {
   "cell_type": "code",
   "execution_count": 53,
   "id": "a7861ebd",
   "metadata": {},
   "outputs": [],
   "source": [
    "# authentication\n",
    "auth = tweepy.OAuthHandler(api_key, api_secret)\n",
    "auth.set_access_token(access_token, access_secret)\n",
    "api = tweepy.API(auth,wait_on_rate_limit=True)\n"
   ]
  },
  {
   "cell_type": "code",
   "execution_count": 54,
   "id": "d4e4b635",
   "metadata": {},
   "outputs": [
    {
     "name": "stdout",
     "output_type": "stream",
     "text": [
      "failed on_status, 403 Forbidden\n",
      "453 - You currently have Essential access which includes access to Twitter API v2 endpoints only. If you need access to this endpoint, you’ll need to apply for Elevated access via the Developer Portal. You can learn more here: https://developer.twitter.com/en/docs/twitter-api/getting-started/about-twitter-api#v2-access-leve\n"
     ]
    }
   ],
   "source": [
    "text_query = 'Tesla'\n",
    "count = 150\n",
    "\n",
    "try:\n",
    " # Creation of query method using parameters\n",
    " tweets = tweepy.Cursor(api.search_tweets,q=text_query).items(count)\n",
    " \n",
    " # Pulling infoACCESS_KEYrmation from tweets iterable object\n",
    " tweets_list = [[tweet.created_at, tweet.id, tweet.text] for tweet in tweets]\n",
    " \n",
    " # Creation of dataframe from tweets list\n",
    " # Add or remove columns as you remove tweet information\n",
    " tweets_df = pd.DataFrame(tweets_list)\n",
    " \n",
    "except BaseException as e:\n",
    "    print('failed on_status,',str(e))\n",
    "    time.sleep(3)"
   ]
  }
 ],
 "metadata": {
  "kernelspec": {
   "display_name": "Python 3 (ipykernel)",
   "language": "python",
   "name": "python3"
  },
  "language_info": {
   "codemirror_mode": {
    "name": "ipython",
    "version": 3
   },
   "file_extension": ".py",
   "mimetype": "text/x-python",
   "name": "python",
   "nbconvert_exporter": "python",
   "pygments_lexer": "ipython3",
   "version": "3.11.0"
  },
  "toc": {
   "base_numbering": 1,
   "nav_menu": {},
   "number_sections": true,
   "sideBar": true,
   "skip_h1_title": false,
   "title_cell": "Table of Contents",
   "title_sidebar": "Contents",
   "toc_cell": false,
   "toc_position": {},
   "toc_section_display": true,
   "toc_window_display": false
  }
 },
 "nbformat": 4,
 "nbformat_minor": 5
}
